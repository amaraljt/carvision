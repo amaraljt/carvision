{
 "cells": [
  {
   "cell_type": "code",
   "execution_count": 1,
   "metadata": {},
   "outputs": [],
   "source": [
    "# notebook playground for bigger dataset\n",
    "import os\n",
    "from torch.utils.data import Dataset, DataLoader\n",
    "from PIL import Image\n",
    "import torchvision.transforms as transforms\n",
    "import torch\n",
    "import matplotlib.pyplot as plt\n",
    "import cv2 as cv\n",
    "import numpy as np\n",
    "import albumentations as A\n",
    "from torchvision.io import read_image\n"
   ]
  },
  {
   "cell_type": "code",
   "execution_count": null,
   "metadata": {},
   "outputs": [],
   "source": [
    "# google docstring template\n",
    "\"\"\"\n",
    "    A class representing an employee.\n",
    " \n",
    "    Attributes:\n",
    "        name (str): The name of the employee.\n",
    "        age (int): The age of the employee.\n",
    "        department (str): The department the employee works in.\n",
    "        salary (float): The salary of the employee.\n",
    "    \"\"\""
   ]
  },
  {
   "cell_type": "code",
   "execution_count": 2,
   "metadata": {},
   "outputs": [
    {
     "data": {
      "text/plain": [
       "'cuda'"
      ]
     },
     "execution_count": 2,
     "metadata": {},
     "output_type": "execute_result"
    }
   ],
   "source": [
    "device = 'cuda' if torch.cuda.is_available() else 'cpu'\n",
    "device"
   ]
  },
  {
   "cell_type": "code",
   "execution_count": null,
   "metadata": {},
   "outputs": [],
   "source": [
    "classes_labels = ['bicycle', 'bus', 'car', 'motorbike', 'person']"
   ]
  },
  {
   "cell_type": "code",
   "execution_count": 2,
   "metadata": {},
   "outputs": [],
   "source": [
    "# Dataset on the Traffic Detection Dataset\n",
    "# <class> <x_center> <y_center> <width> <height>\n",
    "class VtecDataset():\n",
    "    \"\"\"Traffic Detection Dataset\"\"\"\n",
    "    \n",
    "    def __init__(self, img_dir, label_dir, transform=None, target_transform=None):\n",
    "        \"\"\"\n",
    "        Attributes:\n",
    "            img_dir (string): Path to training image directory\n",
    "            label_dir (string): Path to training label directory\n",
    "            transform (callable, optional): Optional transform to be applied on a sample\n",
    "        \"\"\"\n",
    "        self.img_dir = img_dir\n",
    "        self.label_dir = label_dir\n",
    "        self.transform = transform\n",
    "        self.target_transform = target_transform\n",
    "        self.images = [f for f in os.listdir(img_dir) if f.endswith('.jpg')]\n",
    "        \n",
    "    def __len__(self):\n",
    "        return len(self.images)\n",
    "    \n",
    "    def __getitem__(self, i):\n",
    "        \"\"\"Returns subset of data and targets corresponding to given indices.\"\"\"\n",
    "        image_name = self.images[i]\n",
    "        image_path = os.path.join(self.img_dir, image_name)\n",
    "        image = read_image(image_path)\n",
    "        \n",
    "        label_name = image_name.replace('.jpg', '.txt')\n",
    "        label_path = os.path.join(self.label_dir, label_name)\n",
    "        labels = self.get_labels(label_path)\n",
    "        \n",
    "        if self.transform:\n",
    "            image = self.transform(image)\n",
    "        if self.target_transform:\n",
    "            labels = self.target_transform(labels)\n",
    "        \n",
    "        return image, labels\n",
    "    \n",
    "    \n",
    "    def get_labels(self, label_path):\n",
    "        \"\"\"\n",
    "        Loads labels for the corresponding image and returns a dictionary\n",
    "        with keys \"boxes\" and \"labels\" \n",
    "        \"\"\"\n",
    "        labels = {\"boxes\": [], \"labels\": []}\n",
    "        with open(label_path, \"r\") as f:\n",
    "            lines = f.readlines()\n",
    "        \n",
    "        for line in lines:\n",
    "            class_id, x_center, y_center, width, height = map(float, line.strip().split())\n",
    "            labels[\"boxes\"].append([x_center, y_center, width, height])\n",
    "            labels[\"labels\"].append(class_id)\n",
    "            \n",
    "        labels[\"boxes\"].torch.tensor(labels[\"boxes\"], dtype=torch.float32)\n",
    "        labels[\"labels\"].torch.tensor(labels[\"labels\"], dtype=torch.long)\n",
    "            \n",
    "        return labels"
   ]
  },
  {
   "cell_type": "code",
   "execution_count": null,
   "metadata": {},
   "outputs": [],
   "source": [
    "train_img_dir = \"../data/DetectionDataset/train/images/\"\n",
    "train_label_dir = \"../data/DetectionDataset/train/labels/\"\n",
    "test_img_dir = \"../data/DetectionDataset/test/images/\"\n",
    "test_label_dir = \"../data/DetectionDataset/test/images/\""
   ]
  },
  {
   "cell_type": "code",
   "execution_count": 2,
   "metadata": {},
   "outputs": [
    {
     "ename": "SyntaxError",
     "evalue": "incomplete input (1482895203.py, line 4)",
     "output_type": "error",
     "traceback": [
      "\u001b[1;36m  Cell \u001b[1;32mIn[2], line 4\u001b[1;36m\u001b[0m\n\u001b[1;33m    \u001b[0m\n\u001b[1;37m    ^\u001b[0m\n\u001b[1;31mSyntaxError\u001b[0m\u001b[1;31m:\u001b[0m incomplete input\n"
     ]
    }
   ],
   "source": [
    "def collate_fn_padd(batch):\n",
    "    \"\"\"Handles variable label sizes : stacks images instead of labels\"\"\"\n",
    "    images = []\n",
    "    boxes = []\n",
    "    labels = []\n",
    "        \n",
    "    for sample in batch:\n",
    "        image, target = sample\n",
    "        images.append(image)\n",
    "        boxes.append(target[\"boxes\"])\n",
    "        labels.append(target[\"labels\"])\n",
    "\n",
    "    images = torch.stack(images, dim=0)\n",
    "    \n",
    "    return image, {\"boxes\", boxes, \"labels\", labels}"
   ]
  },
  {
   "cell_type": "code",
   "execution_count": null,
   "metadata": {},
   "outputs": [],
   "source": []
  }
 ],
 "metadata": {
  "kernelspec": {
   "display_name": ".venv",
   "language": "python",
   "name": "python3"
  },
  "language_info": {
   "codemirror_mode": {
    "name": "ipython",
    "version": 3
   },
   "file_extension": ".py",
   "mimetype": "text/x-python",
   "name": "python",
   "nbconvert_exporter": "python",
   "pygments_lexer": "ipython3",
   "version": "3.10.11"
  }
 },
 "nbformat": 4,
 "nbformat_minor": 2
}
