{
 "cells": [
  {
   "cell_type": "code",
   "execution_count": 1,
   "metadata": {},
   "outputs": [],
   "source": [
    "# notebook playground for bigger dataset\n",
    "import os\n",
    "from torch.utils.data import Dataset, DataLoader\n",
    "from PIL import Image\n",
    "import torchvision.transforms as transforms\n",
    "import torch\n",
    "import matplotlib.pyplot as plt\n",
    "import cv2 as cv\n",
    "import numpy as np\n",
    "import albumentations as A\n",
    "from torchvision.io import read_image\n"
   ]
  },
  {
   "cell_type": "code",
   "execution_count": null,
   "metadata": {},
   "outputs": [],
   "source": [
    "# google docstring template\n",
    "\"\"\"\n",
    "    A class representing an employee.\n",
    " \n",
    "    Attributes:\n",
    "        name (str): The name of the employee.\n",
    "        age (int): The age of the employee.\n",
    "        department (str): The department the employee works in.\n",
    "        salary (float): The salary of the employee.\n",
    "    \"\"\""
   ]
  },
  {
   "cell_type": "code",
   "execution_count": 2,
   "metadata": {},
   "outputs": [
    {
     "data": {
      "text/plain": [
       "'cuda'"
      ]
     },
     "execution_count": 2,
     "metadata": {},
     "output_type": "execute_result"
    }
   ],
   "source": [
    "device = 'cuda' if torch.cuda.is_available() else 'cpu'\n",
    "device"
   ]
  },
  {
   "cell_type": "code",
   "execution_count": null,
   "metadata": {},
   "outputs": [],
   "source": [
    "classes_labels = ['bicycle', 'bus', 'car', 'motorbike', 'person']"
   ]
  },
  {
   "cell_type": "code",
   "execution_count": 2,
   "metadata": {},
   "outputs": [],
   "source": [
    "# Dataset on the Traffic Detection Dataset\n",
    "# <class> <x_center> <y_center> <width> <height>\n",
    "class VtecDataset():\n",
    "    \"\"\"Traffic Detection Dataset\"\"\"\n",
    "    \n",
    "    def __init__(self, img_dir, label_dir, transform=None, target_transform=None):\n",
    "        \"\"\"\n",
    "        Attributes:\n",
    "            img_dir (string): Path to training image directory\n",
    "            label_dir (string): Path to training label directory\n",
    "            transform (callable, optional): Optional transform to be applied on a sample\n",
    "        \"\"\"\n",
    "        self.img_dir = img_dir\n",
    "        self.label_dir = label_dir\n",
    "        self.transform = transform\n",
    "        self.target_transform = target_transform\n",
    "        self.images = [f for f in os.listdir(img_dir) if f.endswith('.jpg')]\n",
    "        \n",
    "    def __len__(self):\n",
    "        return len(self.images)\n",
    "    \n",
    "    def __getitem__(self, i):\n",
    "        \"\"\"Returns subset of data and targets corresponding to given indices.\"\"\"\n",
    "        image_name = self.images[i]\n",
    "        image_path = os.path.join(self.img_dir, image_name)\n",
    "        image = read_image(image_path)\n",
    "        \n",
    "        label_name = image_name.replace('.jpg', '.txt')\n",
    "        label_path = os.path.join(self.label_dir, label_name)\n",
    "        labels = self.get_labels(label_path)\n",
    "        \n",
    "        if self.transform:\n",
    "            image = self.transform(image)\n",
    "        if self.target_transform:\n",
    "            labels = self.target_transform(labels)\n",
    "        \n",
    "        return image, labels\n",
    "    \n",
    "    \n",
    "    def get_labels(self, label_path):\n",
    "        labels = []\n",
    "        \"\"\"Loads labels for corresponding image\"\"\"\n",
    "        with open(label_path, \"r\") as f:\n",
    "            lines = f.readlines()\n",
    "        \n",
    "        for line in lines:\n",
    "            labels.append(line)\n",
    "            \n",
    "        return labels"
   ]
  },
  {
   "cell_type": "code",
   "execution_count": null,
   "metadata": {},
   "outputs": [],
   "source": []
  }
 ],
 "metadata": {
  "kernelspec": {
   "display_name": ".venv",
   "language": "python",
   "name": "python3"
  },
  "language_info": {
   "codemirror_mode": {
    "name": "ipython",
    "version": 3
   },
   "file_extension": ".py",
   "mimetype": "text/x-python",
   "name": "python",
   "nbconvert_exporter": "python",
   "pygments_lexer": "ipython3",
   "version": "3.10.11"
  }
 },
 "nbformat": 4,
 "nbformat_minor": 2
}
